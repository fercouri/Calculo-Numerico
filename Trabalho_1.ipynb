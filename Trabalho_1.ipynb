{
  "nbformat": 4,
  "nbformat_minor": 0,
  "metadata": {
    "colab": {
      "provenance": [],
      "collapsed_sections": [
        "vadfmHxsGbZr",
        "Sw3lDh4JhwWW",
        "blqUdowDmHHc",
        "Gip_EOO2GdfS",
        "1ZDydMOVvV_0"
      ],
      "include_colab_link": true
    },
    "kernelspec": {
      "name": "python3",
      "display_name": "Python 3"
    },
    "language_info": {
      "name": "python"
    }
  },
  "cells": [
    {
      "cell_type": "markdown",
      "metadata": {
        "id": "view-in-github",
        "colab_type": "text"
      },
      "source": [
        "<a href=\"https://colab.research.google.com/github/fercouri/Calculo-Numerico/blob/main/Trabalho_1.ipynb\" target=\"_parent\"><img src=\"https://colab.research.google.com/assets/colab-badge.svg\" alt=\"Open In Colab\"/></a>"
      ]
    },
    {
      "cell_type": "markdown",
      "source": [
        "# Importações"
      ],
      "metadata": {
        "id": "02KcvUoANd37"
      }
    },
    {
      "cell_type": "code",
      "source": [
        "from IPython.display import clear_output\n",
        "import numpy as np\n",
        "import sympy as sp"
      ],
      "metadata": {
        "id": "_7diAf7ENgG7"
      },
      "execution_count": null,
      "outputs": []
    },
    {
      "cell_type": "markdown",
      "source": [
        "# Resolução de sistemas n ao-lineares para o cálculo de pontos de integração da quadratura de Gauss-Legendre\n",
        "\n",
        "---\n",
        "\n",
        "Objetivo:\n",
        "Desenvolver um código computacional para calcular pontos de integração da quadratura de Gauss em qualquer intervalo."
      ],
      "metadata": {
        "id": "yrQ3zxC0GMJz"
      }
    },
    {
      "cell_type": "markdown",
      "source": [
        "## 1. Definir o domínio de integração [a, b]\n",
        "\n",
        "---\n",
        "\n",
        "\n"
      ],
      "metadata": {
        "id": "Ff3V1219GCdr"
      }
    },
    {
      "cell_type": "code",
      "source": [
        "def lerIntervaloIntegração():\n",
        "    while True:\n",
        "        try:\n",
        "            # print('Dado o intervalo [a, b], qual o valor de a?')\n",
        "            # a = int(input())\n",
        "            # print('E o valor de b?')\n",
        "            # b = int(input())\n",
        "            a, b = 1, 3\n",
        "            return a, b\n",
        "        except ValueError:\n",
        "            print(\"Tipo inválido, por favor insira números inteiros válidos.\")"
      ],
      "metadata": {
        "id": "vOeh6pubHZwU"
      },
      "execution_count": null,
      "outputs": []
    },
    {
      "cell_type": "markdown",
      "source": [
        "## 2. Definir número de pontos de integração N\n",
        "\n",
        "---\n",
        "\n"
      ],
      "metadata": {
        "id": "M7inMBIFGIm7"
      }
    },
    {
      "cell_type": "code",
      "source": [
        "def lerQuantidadePontosIntegracao():\n",
        "  while True:\n",
        "    try:\n",
        "      # print('Qual o número de pontos N?')\n",
        "      # N = int(input())\n",
        "      N = 3\n",
        "\n",
        "      return N\n",
        "    except ValueError:\n",
        "            print(\"Tipo inválido, por favor insira números inteiros válidos.\")"
      ],
      "metadata": {
        "id": "LZ8uJQ8XKn-B"
      },
      "execution_count": null,
      "outputs": []
    },
    {
      "cell_type": "markdown",
      "source": [
        "## 3. Inicializar pesos w e pontos t com aproximações iniciais.\n",
        "\n",
        "---\n",
        "\n"
      ],
      "metadata": {
        "id": "vadfmHxsGbZr"
      }
    },
    {
      "cell_type": "markdown",
      "source": [
        "Detalhes de implementação: Nota-se que como o índice começa no 0, tivemos que adicionar i + 1 nas operações, para que pudessem ser realizadas sem problemas"
      ],
      "metadata": {
        "id": "dh86_OZydyO8"
      }
    },
    {
      "cell_type": "markdown",
      "source": [
        "###Cálculo dos Pesos $w^0_i$\n",
        "\n",
        "* Para $𝑖 ≤ \\frac{N}{2}$​, temos:\n",
        "  $$w^0_i = \\frac{b-a}{2N}i$$\n",
        "\n",
        "* Para $𝑖 > \\frac{N}{2}$​, temos:\n",
        "  $$w^0_i = w^0_{\\frac{N}{2}-i} $$ isso representa espelhamento, ou seja, para índices maiores que $\\frac{N}{2}$, os valores de $w_0$ se igualam aos valores da primeira metade do vetor ($w^0_i = w^0_{\\frac{N}{2} - (i - \\frac{N}{2})}$)\n",
        "\n",
        "---\n",
        "\n"
      ],
      "metadata": {
        "id": "Sw3lDh4JhwWW"
      }
    },
    {
      "cell_type": "code",
      "source": [
        "def calculoPesosW0(a, b, N):\n",
        "  w_0 = np.zeros(N)\n",
        "\n",
        "  for i in range(0, N // 2):\n",
        "    # print(i, \": \",(b - a), \", \", (2 * N), \" * \", (i + 1), \" = \", ((b - a) / (2 * N)) * (i + 1))\n",
        "    w_0[i] = ((b - a) / (2 * N)) * (i + 1)\n",
        "\n",
        "  for i in range(N // 2, N):\n",
        "    index = (N // 2) - ((i + 1) - (N // 2))\n",
        "\n",
        "    if index < 0:\n",
        "      index = index * (-1)\n",
        "\n",
        "    # print(i, \": \", N // 2, \"- (\",  i + 1, \" - \", N // 2, \") = |\", index, \"| --> \", w_0[index])\n",
        "\n",
        "    w_0[i] = w_0[index]\n",
        "\n",
        "  return w_0\n",
        "\n",
        "print(\"---------------------------------------------------\")\n",
        "print(\"TESTE -> Saída esperada: [0.25 0.5  0.5  0.25]\")\n",
        "w_0 = calculoPesosW0(-1, 1, 4)\n",
        "print(\"Pesos w_0:\", w_0)\n",
        "print(\"---------------------------------------------------\")"
      ],
      "metadata": {
        "colab": {
          "base_uri": "https://localhost:8080/"
        },
        "id": "y7ApKLemKzpy",
        "outputId": "8eefa86a-ddb7-419a-ade8-5526a014c798"
      },
      "execution_count": null,
      "outputs": [
        {
          "output_type": "stream",
          "name": "stdout",
          "text": [
            "---------------------------------------------------\n",
            "TESTE -> Saída esperada: [0.25 0.5  0.5  0.25]\n",
            "Pesos w_0: [0.25 0.5  0.5  0.25]\n",
            "---------------------------------------------------\n"
          ]
        }
      ]
    },
    {
      "cell_type": "markdown",
      "source": [
        "### Cálculo dos Pesos $t^0_i$\n",
        "\n",
        "* Para $𝑖 ≤ \\frac{N}{2}$​, temos:\n",
        "  $$t^0_i = a + \\frac{i w_0[i]}{2}$$\n",
        "\n",
        "* Para $𝑖 > \\frac{N}{2}$​, temos:\n",
        "   $$t^0_i = (a + b) - t^0_{\\frac{N}{2}-i}$$\n",
        "   \n",
        "   ou seja, para índices maiores que $\\frac{N}{2}$, os valores de $t_0$ são $t^0_i = (a + b) - t_0 [\\frac{N}{2} - (i- \\frac{N}{2})]$\n",
        "\n",
        "* Para N ímpar, $t^0_\\frac{N}{2} = \\frac{(a + b)}{2} $\n",
        "\n",
        "---\n",
        "\n"
      ],
      "metadata": {
        "id": "ib2EGI9oenGj"
      }
    },
    {
      "cell_type": "code",
      "source": [
        "def calculoPesosT0(a, b, N, w0):\n",
        "  t_0 = np.zeros(N)\n",
        "\n",
        "  for i in range(0, N // 2):\n",
        "    t_0[i] = a + (((i + 1) * w_0[i]) / 2)\n",
        "\n",
        "  for i in range(N // 2, N):\n",
        "    index = (N // 2) - ((i + 1) - (N // 2))\n",
        "\n",
        "    if index < 0:\n",
        "      index = index * (-1)\n",
        "\n",
        "    t_0[i] = (a + b) - t_0[index]\n",
        "\n",
        "  # Caso N ímpar: Definindo o ponto médio\n",
        "  if N % 2 != 0:\n",
        "    t_0[N // 2] = (a + b) / 2\n",
        "\n",
        "  return t_0\n",
        "\n",
        "print(\"---------------------------------------------------\")\n",
        "print(\"TESTE -> Saída esperada: [−0.875, −0.5, 0.5, 0.875]\")\n",
        "w_0 = calculoPesosW0(-1, 1, 3)\n",
        "t_0 = calculoPesosT0(-1, 1, 3, w_0)\n",
        "print(\"Pesos t_0:\", t_0)\n",
        "print(\"---------------------------------------------------\")"
      ],
      "metadata": {
        "colab": {
          "base_uri": "https://localhost:8080/"
        },
        "id": "YLfc_i_ZeaSR",
        "outputId": "ff49a30e-d778-4822-8835-1ffd6c239cbe"
      },
      "execution_count": null,
      "outputs": [
        {
          "output_type": "stream",
          "name": "stdout",
          "text": [
            "---------------------------------------------------\n",
            "TESTE -> Saída esperada: [−0.875, −0.5, 0.5, 0.875]\n",
            "Pesos t_0: [-0.83333333  0.         -0.83333333]\n",
            "---------------------------------------------------\n"
          ]
        }
      ]
    },
    {
      "cell_type": "markdown",
      "source": [
        "## 4. Calcular o sistema de equações F(w, t)\n",
        "\n",
        "---\n",
        "Trata-se de encontrar $w_i$ e $t_i$, tal que:\n",
        "$$\n",
        "\\sum_{i=1}^{N} w_i \\cdot (t_i)^{j-1} = \\int_{a}^{b} x^{j-1} \\, dx \\quad \\text{para} \\quad j = 1, 2, \\dots, 2N\n",
        "$$\n",
        "\n",
        "Como estipulado no enunciado, as integrais do lado direito da equação devem ser tratadas de forma numérica usando uma regra de Newton-Cotes repetida com m=1000 partições."
      ],
      "metadata": {
        "id": "WsR_cJCmGcrZ"
      }
    },
    {
      "cell_type": "markdown",
      "source": [
        "### Newton-Cotes\n",
        "Utilizaremos Regra 1/3 de Simpson,\n",
        "$$\n",
        "\\int_a^b f(x) \\, dx \\approx \\frac{h}{3} (\\sum_{i=0}^{m} c_i f(x_i))\n",
        "$$\n",
        "\n",
        "Onde:\n",
        "- $c_0 = c_m = 1$\n",
        "- caso contrário (i = 1, ..., m - 1):\n",
        " * $c_i = 4$, se i for ímpar\n",
        "\n",
        " * $c_i = 2$, se i for par\n",
        "\n",
        "- $h = \\frac{b - a}{m}$ é a largura de cada subintervalo.\n",
        "\n"
      ],
      "metadata": {
        "id": "blqUdowDmHHc"
      }
    },
    {
      "cell_type": "code",
      "source": [
        "def integral_simpson(a, b, m, j):\n",
        "    # Função a ser integrada: f(x) = x^(j-1)\n",
        "    def f(x):\n",
        "        return x**(j-1)\n",
        "\n",
        "    h = (b - a) / m\n",
        "\n",
        "    # Como c0 = cm = 1\n",
        "    integral = f(a) + f(b)\n",
        "\n",
        "    for i in range(1, m, 2):\n",
        "        integral += 4 * f(a + i * h)\n",
        "\n",
        "    for i in range(2, m, 2):\n",
        "        integral += 2 * f(a + i * h)\n",
        "\n",
        "    integral *= h / 3\n",
        "\n",
        "    return integral"
      ],
      "metadata": {
        "id": "0PIQ77jek0AK"
      },
      "execution_count": null,
      "outputs": []
    },
    {
      "cell_type": "markdown",
      "source": [
        "### Cálculo do Sistema de Equações\n",
        "\n",
        "---\n",
        "Assim, para a aplicação do método de Newton reescrevemos como:\n",
        "$$\n",
        "\\sum_{i=1}^{N} w_i(t_i)^{j-1} - g_j = 0, \\quad j = 1, 2, \\dots, 2N\n",
        "$$\n",
        "\n",
        "onde $ g_j $ é dado por:\n",
        "\n",
        "$$\n",
        "g_j = \\int_a^b x^{j-1} \\, dx\n",
        "$$\n",
        "\n"
      ],
      "metadata": {
        "id": "AaI2fi8QrNLD"
      }
    },
    {
      "cell_type": "code",
      "source": [
        "def calculoF(w_0, t_0, a, b, N):\n",
        "    F_val = np.zeros(2 * N)\n",
        "\n",
        "    for j in range(1, 2 * N + 1):\n",
        "        # Cálculo da integral aproximada usando a regra de Simpson 1/3 com m subintervalos\n",
        "        m = 1000\n",
        "        integral = integral_simpson(a, b, m, j)\n",
        "\n",
        "        # Somatório para calcular a equação para cada j\n",
        "        # somatorio = np.sum(w_0 * (t_0**(j-1)))\n",
        "        somatorio = sum(w_0[i] * (t_0[i] ** (j - 1)) for i in range(N))\n",
        "\n",
        "        # Subtrai a integral da soma ponderada\n",
        "        F_val[j - 1] = somatorio - integral\n",
        "\n",
        "    return F_val"
      ],
      "metadata": {
        "id": "ol2Xcei8rQXa"
      },
      "execution_count": null,
      "outputs": []
    },
    {
      "cell_type": "markdown",
      "source": [
        "## 5. Montar a matriz Jacobiana J(w,t)\n",
        "\n",
        "---\n",
        "\n",
        "Montar a matriz jacobiana J(w,t) formada pela derivada da função $f_j(w_i, t_i)$ pelas variáveis $w_i$ e $t_i$, dada por:\n",
        "\n",
        "$$\n",
        "J(w, t) =\n",
        "\\begin{bmatrix}\n",
        "\\frac{\\partial f_1}{\\partial w_1} & \\cdots & \\frac{\\partial f_1}{\\partial w_N} & \\frac{\\partial f_1}{\\partial t_1} & \\cdots & \\frac{\\partial f_1}{\\partial t_N} \\\\\n",
        "\\frac{\\partial f_2}{\\partial w_1} & \\cdots & \\frac{\\partial f_2}{\\partial w_N} & \\frac{\\partial f_2}{\\partial t_1} & \\cdots & \\frac{\\partial f_2}{\\partial t_N} \\\\\n",
        "\\vdots & \\vdots & \\vdots & \\vdots & \\vdots & \\vdots \\\\\n",
        "\\frac{\\partial f_{2N}}{\\partial w_1} & \\cdots & \\frac{\\partial f_{2N}}{\\partial w_N} & \\frac{\\partial f_{2N}}{\\partial t_1} & \\cdots & \\frac{\\partial f_{2N}}{\\partial t_N}\n",
        "\\end{bmatrix}\n",
        "$$\n",
        "\n",
        "\n",
        "Assim, definindo uma perturbação $ \\epsilon = 10^{-8} $, podemos aproximar as derivadas parciais:\n",
        "\n",
        "$$\n",
        "\\frac{\\partial f_i}{\\partial w_j} \\approx \\frac{f_i(w_1 + \\epsilon, w_2, \\dots, w_N, t_1, \\dots, t_N) - f_i(w_1, w_2, \\dots, w_N, t_1, \\dots, t_N)}{\\epsilon}\n",
        "$$\n",
        "\n",
        "e, semelhantemente, ocorre para a derivada $f_i$ em relação a $t_j$."
      ],
      "metadata": {
        "id": "Gip_EOO2GdfS"
      }
    },
    {
      "cell_type": "code",
      "source": [
        "def calculoJ(w, t, a, b, N, F0, m, eps):\n",
        "    J = np.zeros((2 * N, 2 * N))\n",
        "\n",
        "    # Aproximação das derivadas parciais em relação a w\n",
        "    for j in range(N):\n",
        "        w_pert = np.copy(w)\n",
        "        w_pert[j] += eps  # perturba somente w[j]\n",
        "        F_pert = calculoF(w_pert, t, a, b, N)\n",
        "        # Diferença finita para todas as funções f_i (i = 0,1,...,2N-1)\n",
        "        J[:, j] = (F_pert - F0) / eps\n",
        "\n",
        "    # Aproximação das derivadas parciais em relação a t\n",
        "    for j in range(N):\n",
        "        t_pert = np.copy(t)\n",
        "        t_pert[j] += eps  # perturba somente t[j]\n",
        "        F_pert = calculoF(w, t_pert, a, b, N)\n",
        "        # Armazena a derivada no bloco correspondente (colunas de N a 2N-1)\n",
        "        J[:, N + j] = (F_pert - F0) / eps\n",
        "\n",
        "    return J"
      ],
      "metadata": {
        "id": "-lUg7YCmrdfi"
      },
      "execution_count": null,
      "outputs": []
    },
    {
      "cell_type": "markdown",
      "source": [
        "## 6. Resolver pelo método de Newton\n",
        "\n",
        "---\n",
        "O método de Newton é iterativo e, a cada iteração, atualiza as aproximações dos\n",
        "w e t de acordo com a solução do sistema linear:\n",
        "\n",
        "$$\n",
        "J(w,t)⋅s=−F(w,t)\n",
        "$$\n",
        "\n",
        "onde\n",
        "- s é o vetor de correção que é dividido em duas partes (primeiros N componentes para w e os restantes para t)."
      ],
      "metadata": {
        "id": "_Ev49q1-GeYJ"
      }
    },
    {
      "cell_type": "markdown",
      "source": [
        "Aqui optamos por resolver por mínimos quadrados (np.linalg.lstsq), quando a matriz J for singular, apresentando um resultado aproximado."
      ],
      "metadata": {
        "id": "p1plSJD7Y5NW"
      }
    },
    {
      "cell_type": "code",
      "source": [
        "def newton(w0, t0, a, b, N, tol=1e-8, max_iter=100):\n",
        "    w = np.copy(w0)\n",
        "    t = np.copy(t0)\n",
        "\n",
        "    for k in range(max_iter):\n",
        "        F_val = calculoF(w, t, a, b, N)\n",
        "        J_val = calculoJ(w, t, a, b, N, F_val, m=1000, eps=1e-8)\n",
        "\n",
        "        try:\n",
        "            s = np.linalg.solve(J_val, -F_val)\n",
        "        except ValueError as e:\n",
        "            # print(\"Matriz Jacobiana singular -> não existe solução para o sistema linear Js=−F\")\n",
        "            s = np.linalg.lstsq(J_val, -F_val, rcond=None)[0]\n",
        "\n",
        "        # Critério de parada: norma infinito do vetor s\n",
        "        if np.linalg.norm(s, ord=np.inf) < tol:\n",
        "            w = w + s[:N]\n",
        "            t = t + s[N:]\n",
        "            # print(f\"Convergência atingida após {k+1} iterações.\")\n",
        "            return w, t\n",
        "\n",
        "        # Atualiza as aproximações\n",
        "        w = w + s[:N]\n",
        "        t = t + s[N:]\n",
        "\n",
        "    # print(\"Número máximo de iterações alcançado.\")\n",
        "    return w, t\n",
        "\n",
        "# newton([0.25, 0.5, 0.5, 0.25], [-0.875, -0.5, 0.5, 0.875], -1, 1, 4, 1e-8, 100)"
      ],
      "metadata": {
        "id": "0z4fxAfC0Q6S"
      },
      "execution_count": null,
      "outputs": []
    },
    {
      "cell_type": "markdown",
      "source": [
        "# 7. Execução\n",
        "\n",
        "---\n",
        "\n"
      ],
      "metadata": {
        "id": "WTTfvF7PMkuS"
      }
    },
    {
      "cell_type": "code",
      "source": [
        "a, b = lerIntervaloIntegração()\n",
        "N = lerQuantidadePontosIntegracao()"
      ],
      "metadata": {
        "id": "zbaHu2QqnabW"
      },
      "execution_count": null,
      "outputs": []
    },
    {
      "cell_type": "code",
      "source": [
        "w_0 = calculoPesosW0(a, b, N)\n",
        "t_0 = calculoPesosT0(a, b, N, w_0)"
      ],
      "metadata": {
        "id": "Mt8zl2bOnkBJ"
      },
      "execution_count": null,
      "outputs": []
    },
    {
      "cell_type": "code",
      "source": [
        "w_sol, t_sol = newton(w_0, t_0, a, b, N, tol=1e-8, max_iter=100)\n",
        "\n",
        "\n",
        "clear_output(wait=True)\n",
        "\n",
        "print(\"O intervalo é: [\", a ,\",\", b, \"]\")\n",
        "print(\"O número de pontos é: \", N)\n",
        "print(\"w_0 inicial é:\", w_0)\n",
        "print(\"t_0 inicial é:\", t_0)\n",
        "print(\"----------------------------------------\")\n",
        "print(\"Solução aproximada dos pontos:\", t_sol)\n",
        "print()\n",
        "print(\"Solução aproximada dos pesos:\", w_sol)"
      ],
      "metadata": {
        "colab": {
          "base_uri": "https://localhost:8080/"
        },
        "id": "YVuD-LEEMm4b",
        "outputId": "192d2df7-2da6-43a1-cfd0-304c0f95900a"
      },
      "execution_count": null,
      "outputs": [
        {
          "output_type": "stream",
          "name": "stdout",
          "text": [
            "O intervalo é: [ 1 , 3 ]\n",
            "O número de pontos é:  3\n",
            "w_0 inicial é: [0.33333333 0.33333333 0.33333333]\n",
            "t_0 inicial é: [1.16666667 2.         1.16666667]\n",
            "----------------------------------------\n",
            "Solução aproximada dos pontos: [-13.72660727   2.01829437 -13.72660727]\n",
            "\n",
            "Solução aproximada dos pesos: [-1.44833217e+12  1.99646852e+00  1.44833217e+12]\n"
          ]
        }
      ]
    },
    {
      "cell_type": "markdown",
      "source": [
        "### Funções auxiliares"
      ],
      "metadata": {
        "id": "1ZDydMOVvV_0"
      }
    },
    {
      "cell_type": "code",
      "source": [
        "def integral_exata(f, a, b):\n",
        "    x = sp.symbols('x')\n",
        "    f_expr = f(x)\n",
        "\n",
        "    integral = sp.integrate(f_expr, (x, a, b))\n",
        "\n",
        "    return float(integral.evalf())"
      ],
      "metadata": {
        "id": "kwPugeBvri2g"
      },
      "execution_count": null,
      "outputs": []
    },
    {
      "cell_type": "code",
      "source": [
        "def integral_gauss_legendre(f, a, b, w, t):\n",
        "    # Mapeia os pontos de Gauss-Legendre de [-1, 1] para [a, b]\n",
        "    midpoint = 0.5 * (b + a)\n",
        "    half_length = 0.5 * (b - a)\n",
        "\n",
        "    integral_sum = 0.0\n",
        "    for i in range(len(t)):\n",
        "        # Calcula a função no ponto mapeado\n",
        "        x = midpoint + half_length * t[i]\n",
        "        integral_sum += w[i] * f(x)\n",
        "\n",
        "    # Multiplica pela largura do intervalo\n",
        "    return half_length * integral_sum"
      ],
      "metadata": {
        "id": "mzCet0JYoNOQ"
      },
      "execution_count": null,
      "outputs": []
    },
    {
      "cell_type": "markdown",
      "source": [
        "### Definindo intervalos, números de pontos e funções a serem testadas"
      ],
      "metadata": {
        "id": "75MwJHEDxFKL"
      }
    },
    {
      "cell_type": "code",
      "source": [
        "a, b = -1, 1\n",
        "\n",
        "N = [2, 3, 4, 5, 6]\n",
        "\n",
        "# Funções para testar\n",
        "def f1(x):\n",
        "    return x**2\n",
        "\n",
        "def f2(x):\n",
        "    return 2*x\n",
        "\n",
        "def f3(x):\n",
        "    return sp.sin(x)"
      ],
      "metadata": {
        "id": "QmkTSidEw50V"
      },
      "execution_count": null,
      "outputs": []
    },
    {
      "cell_type": "markdown",
      "source": [
        "### Criando Tabela 1:\n",
        "\n",
        "Usa a, b e N"
      ],
      "metadata": {
        "id": "HCWj_wywvhhA"
      }
    },
    {
      "cell_type": "code",
      "source": [
        "def gerar_tabela_pesos_pontos(a, b, Ns):\n",
        "    print(f\"\\nIntervalo: [{a}, {b}]\")\n",
        "    print(\"| N |       Pesos (w)       |       Pontos (t)       |\")\n",
        "    print(\"| - | --------------------- | ---------------------- |\")\n",
        "\n",
        "    for N in Ns:\n",
        "        # Calcular pesos e pontos iniciais\n",
        "        w_0 = calculoPesosW0(a, b, N)\n",
        "        t_0 = calculoPesosT0(a, b, N, w_0)\n",
        "\n",
        "        # Refinar pesos e pontos usando o método de Newton\n",
        "        w_sol, t_sol = newton(w_0, t_0, a, b, N, tol=1e-8, max_iter=100)\n",
        "\n",
        "        print(f\"| {N} | {w_sol} | {t_sol} |\")"
      ],
      "metadata": {
        "id": "tEwS4b4ovjoP"
      },
      "execution_count": null,
      "outputs": []
    },
    {
      "cell_type": "code",
      "source": [
        "print(\"\\nTabela 1: Valores dos pesos e pontos de integração para o intervalo [a, b]\")\n",
        "gerar_tabela_pesos_pontos(a, b, N)"
      ],
      "metadata": {
        "colab": {
          "base_uri": "https://localhost:8080/"
        },
        "id": "7lLyNjFCvqY-",
        "outputId": "c78c4e28-0ce6-468c-836c-baef42fefb6e"
      },
      "execution_count": null,
      "outputs": [
        {
          "output_type": "stream",
          "name": "stdout",
          "text": [
            "\n",
            "Tabela 1: Valores dos pesos e pontos de integração para o intervalo [a, b]\n",
            "\n",
            "Intervalo: [-1, 1]\n",
            "| N |       Pesos (w)       |       Pontos (t)       |\n",
            "| - | --------------------- | ---------------------- |\n",
            "| 2 | [1. 1.] | [-0.57735027  0.57735027] |\n",
            "| 3 | [-4.03633422e+05  3.31911624e-02 -5.66638713e-12] | [ 1.36591370e+02  2.51294111e+00 -3.20596986e+05] |\n",
            "| 4 | [0.34785485 0.65214515 0.65214515 0.34785485] | [-0.86113631  0.33998104 -0.33998104  0.86113631] |\n",
            "| 5 | [0.23692688 0.47862867 0.56888889 0.23692688 0.47862867] | [-9.06179846e-01 -5.38469310e-01  2.49876856e-15  9.06179846e-01\n",
            "  5.38469310e-01] |\n",
            "| 6 | [ 1.21600034e-14  1.91351349e-07  1.59823438e-02  3.28783918e-01\n",
            " -4.81704209e+01  0.00000000e+00] | [-9.07374963e+01 -1.73349898e+01  2.90653550e+00 -2.63954166e+00\n",
            "  9.00071756e-01  2.77395335e+05] |\n"
          ]
        }
      ]
    },
    {
      "cell_type": "markdown",
      "source": [
        "### Criando Tabela 2:\n",
        "Usa funções e N"
      ],
      "metadata": {
        "id": "-sXURP_vvYdD"
      }
    },
    {
      "cell_type": "code",
      "source": [
        "# Intervalos e soluções exatas\n",
        "testes = [\n",
        "    {\"funcao\": f1, \"a\": -1, \"b\": 1, \"exata\": integral_exata(f1, -1, 1)},\n",
        "    {\"funcao\": f2, \"a\": 0, \"b\": 1, \"exata\": integral_exata(f2, 0, 1)},\n",
        "    {\"funcao\": f3, \"a\": 0, \"b\": np.pi, \"exata\": integral_exata(f3, 0, np.pi)}\n",
        "]\n",
        "\n",
        "print(\"\\nTabela 2: Comparação exata e aproximada da integral da função f(x) no intervalo [a, b]\")\n",
        "for teste in testes:\n",
        "    print(f\"\\nFunção: {teste['funcao'].__name__}, Intervalo: [{teste['a']}, {teste['b']}]\")\n",
        "    print(\"| N |     Solução Exata    |       Solução Aproximada       |    Erro    |\")\n",
        "    print(\"| - | -------------------- | ------------------------------ | ---------- |\")\n",
        "    for Ns in N:\n",
        "        # Calcular pesos e pontos iniciais\n",
        "        w_0 = calculoPesosW0(teste['a'], teste['b'], Ns)\n",
        "        t_0 = calculoPesosT0(teste['a'], teste['b'], Ns, w_0)\n",
        "\n",
        "        # Refinar pesos e pontos usando o método de Newton\n",
        "        w_sol, t_sol = newton(w_0, t_0, teste['a'], teste['b'], Ns, tol=1e-8, max_iter=100)\n",
        "\n",
        "        # Calcular a integral aproximada\n",
        "        integral_aprox = integral_gauss_legendre(teste['funcao'], teste['a'], teste['b'], w_sol, t_sol)\n",
        "\n",
        "        # Calcular o erro\n",
        "        erro = abs(teste['exata'] - integral_aprox)\n",
        "\n",
        "        # Exibir resultados\n",
        "        print(f\"| {Ns} | {teste['exata']} | {integral_aprox} | {erro} |\")"
      ],
      "metadata": {
        "colab": {
          "base_uri": "https://localhost:8080/"
        },
        "id": "juduH4s3oHTW",
        "outputId": "6570f23f-e31a-477f-b74e-f86446789467"
      },
      "execution_count": null,
      "outputs": [
        {
          "output_type": "stream",
          "name": "stdout",
          "text": [
            "\n",
            "Tabela 2: Comparação exata e aproximada da integral da função f(x) no intervalo [a, b]\n",
            "\n",
            "Função: f1, Intervalo: [-1, 1]\n",
            "| N |     Solução Exata    |       Solução Aproximada       |    Erro    |\n",
            "| - | -------------------- | ------------------------------ | ---------- |\n",
            "| 2 | 0.6666666666666666 | 0.6666666666666663 | 3.3306690738754696e-16 |\n",
            "| 3 | 0.6666666666666666 | -7530670468.747863 | 7530670469.41453 |\n",
            "| 4 | 0.6666666666666666 | 0.6666666666666663 | 3.3306690738754696e-16 |\n",
            "| 5 | 0.6666666666666666 | 0.6666666666666663 | 3.3306690738754696e-16 |\n",
            "| 6 | 0.6666666666666666 | 0.6666666666666663 | 3.3306690738754696e-16 |\n",
            "\n",
            "Função: f2, Intervalo: [0, 1]\n",
            "| N |     Solução Exata    |       Solução Aproximada       |    Erro    |\n",
            "| - | -------------------- | ------------------------------ | ---------- |\n",
            "| 2 | 1.0 | 0.7500000000000001 | 0.2499999999999999 |\n",
            "| 3 | 1.0 | 1.1774334133250643e+35 | 1.1774334133250643e+35 |\n",
            "| 4 | 1.0 | 0.75 | 0.25 |\n",
            "| 5 | 1.0 | 0.7500000000000001 | 0.2499999999999999 |\n",
            "| 6 | 1.0 | 0.7500000000000001 | 0.2499999999999999 |\n",
            "\n",
            "Função: f3, Intervalo: [0, 3.141592653589793]\n",
            "| N |     Solução Exata    |       Solução Aproximada       |    Erro    |\n",
            "| - | -------------------- | ------------------------------ | ---------- |\n",
            "| 2 | 2.0 | -0.561772552617011 | 2.56177255261701 |\n",
            "| 3 | 2.0 | -3.85511390950965 | 5.85511390950965 |\n",
            "| 4 | 2.0 | -0.974712520951616 | 2.97471252095162 |\n",
            "| 5 | 2.0 | -0.975379450942109 | 2.97537945094211 |\n",
            "| 6 | 2.0 | -0.975367836395440 | 2.97536783639544 |\n"
          ]
        }
      ]
    }
  ]
}